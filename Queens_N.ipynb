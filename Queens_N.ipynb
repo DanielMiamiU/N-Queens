{
  "nbformat": 4,
  "nbformat_minor": 0,
  "metadata": {
    "colab": {
      "provenance": []
    },
    "kernelspec": {
      "name": "python3",
      "display_name": "Python 3"
    },
    "language_info": {
      "name": "python"
    }
  },
  "cells": [
    {
      "cell_type": "code",
      "execution_count": 1,
      "metadata": {
        "colab": {
          "base_uri": "https://localhost:8080/"
        },
        "id": "pTn79G9lzo06",
        "outputId": "eccc7273-e056-41c4-b580-221c3aa7b1d6"
      },
      "outputs": [
        {
          "output_type": "stream",
          "name": "stdout",
          "text": [
            "{0: 2, 1: 7, 2: 3, 3: 6, 4: 0, 5: 5, 6: 1, 7: 4}\n",
            "[[2. 2. 0. 2. 2. 2. 2. 2.]\n",
            " [1. 3. 2. 3. 3. 1. 2. 0.]\n",
            " [2. 1. 3. 0. 2. 3. 2. 2.]\n",
            " [2. 2. 2. 2. 3. 3. 0. 2.]\n",
            " [0. 3. 1. 2. 3. 3. 3. 3.]\n",
            " [3. 2. 3. 2. 2. 0. 3. 2.]\n",
            " [1. 0. 3. 3. 2. 2. 2. 2.]\n",
            " [2. 2. 3. 3. 0. 1. 1. 2.]]\n"
          ]
        }
      ],
      "source": [
        "import numpy as np\n",
        "import random\n",
        "\n",
        "def placeQueens(queensPos, board, N):\n",
        "  for i in range(N):\n",
        "    min = np.min(board[i])\n",
        "    minIndex = []\n",
        "\n",
        "    for j in range(len(board[i])):\n",
        "      if board[i][j] == min:\n",
        "        minIndex.append(j)\n",
        "    randSpot = random.randint(0, len(minIndex) - 1)\n",
        "    queensPos[i] = minIndex[randSpot]\n",
        "    board = updateGame(queensPos[i], i, board, N)\n",
        "  return queensPos, board\n",
        "\n",
        "def moveQueens(queensPos, board, Row, N):\n",
        "\n",
        "  temp = board[Row].copy()\n",
        "  temp[queensPos] = np.nan\n",
        "  min = np.nanargmin(temp)\n",
        "  minIndex = []\n",
        "\n",
        "\n",
        "  for j in range(len(temp)):\n",
        "    if temp[j] == temp[min]:\n",
        "      minIndex.append(j)\n",
        "  randSpot = random.randint(0, len(minIndex) - 1)\n",
        "  board = neg_updateGame(queensPos, Row, board, N)\n",
        "  queensPos = minIndex[randSpot]\n",
        "  board = updateGame(queensPos, Row, board, N)\n",
        "  temp = board[Row]\n",
        "  return queensPos, board\n",
        "\n",
        "\n",
        "def neg_updateGame(oldQueen, row, oldBoard, N):\n",
        "  for i in range(N):\n",
        "    if i == row:\n",
        "      continue\n",
        "    diff = i - row\n",
        "    rDiagonal = oldQueen + diff\n",
        "    lDiagonal = oldQueen - diff\n",
        "    oldBoard[i,oldQueen] -= 1\n",
        "    if rDiagonal >= 0 and rDiagonal < N:\n",
        "      oldBoard[i,rDiagonal] -= 1\n",
        "\n",
        "    if lDiagonal >= 0 and lDiagonal < N:\n",
        "      oldBoard[i,lDiagonal] -= 1\n",
        "  return oldBoard\n",
        "\n",
        "def updateGame(newQueen, row, oldBoard, N):\n",
        "  for i in range(N):\n",
        "    if i == row:\n",
        "      continue\n",
        "    diff = i - row\n",
        "    rDiagonal = newQueen + diff\n",
        "    lDiagonal = newQueen - diff\n",
        "    oldBoard[i,newQueen] += 1\n",
        "    if rDiagonal >= 0 and rDiagonal < N:\n",
        "      oldBoard[i,rDiagonal] += 1\n",
        "\n",
        "    if lDiagonal >= 0 and lDiagonal < N:\n",
        "      oldBoard[i,lDiagonal] += 1\n",
        "  return oldBoard\n",
        "\n",
        "def finishCheck(Queens, board):\n",
        "  for i in Queens:\n",
        "    if board[i][Queens[i]] != 0:\n",
        "      return False\n",
        "  return True\n",
        "\n",
        "N = 8\n",
        "\n",
        "#Make gameboard\n",
        "board = np.zeros((N,N))\n",
        "\n",
        "queensPos = {}\n",
        "\n",
        "queensPos, board = placeQueens(queensPos, board, N)\n",
        "\n",
        "while  not finishCheck(queensPos, board):\n",
        "  for i in range(N):\n",
        "    queensPos[i], board = moveQueens(queensPos[i], board, i, N)\n",
        "    if finishCheck(queensPos, board):\n",
        "      break\n",
        "\n",
        "print(queensPos)\n",
        "print(board)\n"
      ]
    }
  ]
}